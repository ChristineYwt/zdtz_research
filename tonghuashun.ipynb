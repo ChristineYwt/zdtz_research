{
 "cells": [
  {
   "cell_type": "code",
   "execution_count": 1,
   "metadata": {},
   "outputs": [],
   "source": [
    "import requests \n",
    "import json\n",
    "import pandas as pd\n",
    "import numpy as np\n",
    "from datetime import datetime"
   ]
  },
  {
   "cell_type": "code",
   "execution_count": 2,
   "metadata": {},
   "outputs": [
    {
     "name": "stdout",
     "output_type": "stream",
     "text": [
      "ea4593e5f432ba59cd69214b81d0c94a147089d6\n"
     ]
    }
   ],
   "source": [
    "getAccessTokenUrl = 'https://ft.10jqka.com.cn/api/v1/get_access_token' \n",
    "refreshToken = 'eyJzaWduX3RpbWUiOiIyMDIyLTA5LTI5IDEzOjQzOjQ2In0=.eyJ1aWQiOiI1ODUyMjc4ODEifQ==.5CC83A67006931E5D2C8A42DBA046B64170CB9B1D6E0EC198ECAC16065718AA3' \n",
    "getAccessTokenHeader = {\"Content-Type\":\"application/json\",\"refresh_token\":refreshToken}\n",
    "getAccessTokenResponse = requests.post(url=getAccessTokenUrl,headers=getAccessTokenHeader) \n",
    "accessToken = json.loads(getAccessTokenResponse.content)['data']['access_token'] \n",
    "print(accessToken)"
   ]
  },
  {
   "cell_type": "code",
   "execution_count": 11,
   "metadata": {},
   "outputs": [],
   "source": [
    "# thsUrl = 'https://ft.10jqka.com.cn/api/v1/cmd_history_quotation'\n",
    "thsUrl = 'https://ft.10jqka.com.cn/ds_service/api/v1/real_time_quotation'\n",
    "thsHeaders = {\"Content-Type\":\"application/json\",\"access_token\":accessToken}\n",
    "\n",
    "code = \"300033.SZ\"\n",
    "startdate = \"2021-01-01\"\n",
    "enddate = \"2020-05-01\""
   ]
  },
  {
   "cell_type": "code",
   "execution_count": 14,
   "metadata": {},
   "outputs": [],
   "source": [
    "# thsPara = {\n",
    "#     \"codes\":\"000001.SZ\",\n",
    "#     \"indicators\":\"close\",#\"totalShares,totalCapital,pe_ttm,pb\",\n",
    "#     \"startdate\":startdate,\n",
    "#     \"enddate\":enddate}\n",
    "thsPara = {\"codes\":\"300033.SZ\",\"indicators\":\"totalShares,totalCapital,pe_ttm,pb\"}\n",
    "thsResponse = requests.post(url=thsUrl,json=thsPara,headers=thsHeaders)"
   ]
  },
  {
   "cell_type": "code",
   "execution_count": 15,
   "metadata": {},
   "outputs": [
    {
     "data": {
      "text/plain": [
       "'{\"errorcode\":0,\"errmsg\":\"Success!\",\"tables\":[{\"pricetype\":1,\"thscode\":\"300033.SZ\",\"time\":[\"2022-09-30 16:30:03\"],\"table\":{\"totalShares\":[537600000],\"totalCapital\":[41653248000.00],\"pe_ttm\":[22.89930641],\"pb\":[6.924039]}}],\"datatype\":[{\"itemid\":\"totalShares\",\"type\":\"DT_DOUBLE\"},{\"itemid\":\"totalCapital\",\"type\":\"DT_DOUBLE\"},{\"itemid\":\"pe_ttm\",\"type\":\"DT_DOUBLE\"},{\"itemid\":\"pb\",\"type\":\"DT_DOUBLE\"}],\"inputParams\":{\"indexs\":\"totalShares,totalCapital,pe_ttm,pb\"},\"dataVol\":4,\"perf\":41}'"
      ]
     },
     "execution_count": 15,
     "metadata": {},
     "output_type": "execute_result"
    }
   ],
   "source": [
    "thsResponse.text"
   ]
  },
  {
   "cell_type": "code",
   "execution_count": null,
   "metadata": {},
   "outputs": [],
   "source": []
  }
 ],
 "metadata": {
  "kernelspec": {
   "display_name": "Python 3",
   "language": "python",
   "name": "python3"
  },
  "language_info": {
   "codemirror_mode": {
    "name": "ipython",
    "version": 3
   },
   "file_extension": ".py",
   "mimetype": "text/x-python",
   "name": "python",
   "nbconvert_exporter": "python",
   "pygments_lexer": "ipython3",
   "version": "3.8.3"
  }
 },
 "nbformat": 4,
 "nbformat_minor": 4
}
